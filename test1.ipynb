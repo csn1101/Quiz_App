{
 "cells": [
  {
   "cell_type": "code",
   "execution_count": 16,
   "metadata": {},
   "outputs": [],
   "source": [
    "import openai \n",
    "import langchain \n",
    "import pinecone \n",
    "from langchain.document_loaders import PyPDFDirectoryLoader \n",
    "from langchain.text_splitter import RecursiveCharacterTextSplitter \n",
    "from langchain.embeddings.openai import OpenAIEmbeddings \n",
    "from langchain.vectorstores import pinecone\n",
    "from langchain.llms import OpenAI\n",
    "import os \n",
    "from dotenv import load_dotenv\n",
    "load_dotenv()\n",
    "key = os.environ['api_key']"
   ]
  },
  {
   "cell_type": "code",
   "execution_count": 17,
   "metadata": {},
   "outputs": [],
   "source": [
    "#file load\n",
    "def read_doc(directory):\n",
    "    file_loader = PyPDFDirectoryLoader(directory)\n",
    "    documents = file_loader.load()\n",
    "    return documents"
   ]
  },
  {
   "cell_type": "code",
   "execution_count": 18,
   "metadata": {},
   "outputs": [
    {
     "data": {
      "text/plain": [
       "[Document(page_content=' \\n \\n*This is a representative.  \\nWe have thousands of acronyms here at Cognizant. Here are some of the most common.  \\n \\nAD Active Directory  \\nADP  Associate Deployable Pool  \\nADM  Applications Development & Management  \\nAM Account Manager  \\nAI&A  Artificial Intelligence & Analytics  \\nAIM  Analytics & Information Management  \\nAI-Squad  Artificial Intelligence -  System Quality Assurance and Data  \\nANZ Australia & New Zealand  \\nAOP  Annual Operating Plan \\nAPAC  Asia Pacific  \\nAToF  Account Team of the Future  \\nAUP  Acceptable Use Policy  \\nAVM  Application Value Management  \\nBA Business Analyst  \\nBI  Business Intelligence  \\nBCM  Business Continuity Management  \\nBCP  Business Continuity Plan  \\nBFS Banking & Financial Services  \\nBRM  Business Resilience Manager  \\nBU Business Unit  \\nBvD Bid vs Did \\nCC Cognizant Consulting \\nCCA  Cognizant Career Architecture \\nCDB  Cognizant Digital Business  \\nCDE  Cognizant Digital Engineering  \\n', metadata={'source': 'data\\\\Cognizant_Acronyms.pdf', 'page': 0}),\n",
       " Document(page_content=' \\nCDO  Cognizant Digital Operations  \\nCDP  Corporate Deployable Pool  \\nCDS  Cloud Data Solutions   \\nCE Continental Europe  \\nCEP  Core Engineering Practice \\nCF Corporate Function \\nCFRM  Corporate Function Resilience Manger \\nCI Cognizant Interactive  \\nCII Continuous Improvement and Innovation  \\nCIS Cognizant Infrastructure Services  \\nCMCI  Cognizant Managed Cloud Infrastructure  \\nCMT  Communications, Media and Technology  \\nCOD  Cost of Delivery  \\nCoE Center of Excellence \\nCP Commercial Partner/ Client Partner/Client Profitability  \\nCR Change Request  \\nCSA Cloud Solution Architect  \\nCTB Change the Business  \\nCWR  Contractor (Contingency Worker)  \\nCWS  Corporate Workplace Services  \\nDA Deliverability Assessment  \\nDBO  Digital Business Operations  \\nDB&T  Digital Business and Technology  \\nDE Delivery Excellence  \\nDHD  Delivery Health Dashboard \\nDI Data Integration  \\nDL Delivery Lead/ Distribution List  \\nDP Delivery Partner  \\nDS&T  Digital Systems & Technology  \\nEAS Enterprise Application Services  \\nE&C Ethics & Compliance \\nEL Engagement Lead  ', metadata={'source': 'data\\\\Cognizant_Acronyms.pdf', 'page': 1}),\n",
       " Document(page_content=' \\nELT Executive Leadership Team  \\nELT Entry Level Trainee  \\nEOD  End of Day  \\nEP Engagement Partner \\nERM  Enterprise Risk Management  \\nEVP Employee Value Proposition  \\nF&A Finance and Accounting \\nFB Fixed Bid  \\nFP&A Financial Planning & Analysis  \\nFSE Full Stack  Engineer  \\nGAPS  Global Account Planning Session \\nGD Global Delivery  \\nGDPR  Global Data Protection Regulation  \\nGGM  Global Growth Markets  \\nGL General Ledger  \\nGLD  Global Leadership Development  \\nGPOY  Global Project of the Year \\nGRC  Governance, Risk and Compliance \\nGTB  Global Talent Board \\nGTO  Global Technology Office  \\nGWFM  Global Workforce Management  \\nHC Healthcare  \\nHFM  Hyperion Financial Management  \\nHPOC  Horizontal Point of Contact  \\nHRBP  Human Resources Business Partner \\nIA Internal Audit  \\nIA&T  Intelligent Automation & Technology  \\nIME Information, Media and Entertainment  \\nIMS Information Management System   \\nIoT Internet of Things  \\nIPM Integrated Process Management  \\nIRM Information Risk Management  ', metadata={'source': 'data\\\\Cognizant_Acronyms.pdf', 'page': 2}),\n",
       " Document(page_content=' \\nISA Information Security & Assurance \\nLATAM  Latin America \\nLoS Lines of Service \\nLoB Lines of Business  \\nLP Learning Partner  \\nLS Life Sciences  \\nKRA  Key Results  Area  \\nKRO  Key Result Objectives or Key Role Outcomes  \\nME Middle East  \\nMLEU  Manufacturing, Logistics, Energy & Utilities  \\nMS Managed Services  \\nMSA  Master Service Agreement  \\nMSFT   Microsoft  \\nMSI Multi- Service Integration  \\nMTK  Manager Tool Kit  \\nNIB Non- Integrated Businesses  \\nNSS Network, Infrastructure, Internal IT (help desk) \\nNU Normalization Unit  \\nOEPM  Organizational Effectiveness and Performance Management team  \\nOSP  Oracle Solutions Practice  \\nP / PA  Programmer and Programmer Analyst  \\nPAT Programmer Analyst Trainee  \\nPC Project Code  \\nPCC Platinum Client Cluster \\nPDP Practice Deployable Pool  \\nPEP  Profitability Enhancement Program  \\nPII Personal Identifiable Information \\nPMO  Project Management Office \\nPS PeopleSoft  \\nP&L Profit and Loss  \\nQE&A  Quality Engineering & Assurance  \\nRCGTH Retail, Consumer Packaged Goods, Travel & Hospitality  ', metadata={'source': 'data\\\\Cognizant_Acronyms.pdf', 'page': 3}),\n",
       " Document(page_content=' \\nRDC  Regional Delivery Center \\nRDO  Results Delivery Office \\nRDP  Role Development Plan \\nRM Risk Management  \\nRPA Robotics Process Automation \\nRSM  Role Skill Matrix  \\nRTB  Run the Business  \\nRTM  Requirement Trace- ability Matrix   \\nSBU Subsidiary Business Unit  \\nSGA  Sales/Selling, General & Administration \\nSOW Statement of Work  \\nTAG  Talent Acquisition Group \\nTCG  Technology Consulting Group  \\nTB Trial Balance \\nTCR Transforming Client Relationships  \\nTCV Total Contract Value \\nTM Talent Manager  \\nTPDI  Total Performance and Development Indicators  \\nTSC Talent Supply Chain \\nTYU Test Your Understanding  \\nUK/I United Kingdom/Ireland  \\nVCDP  Virtual Corporate Deployable Pool  \\nVPOC  Vertical Point of Contact  \\nWI Workforce Insights  \\nWIP Work in Progress  \\nYE Year End  \\nYEA Year End Appraisal  \\nYTD Year to Date \\nZDLC  Zero Deviation Lifecycle  \\n ', metadata={'source': 'data\\\\Cognizant_Acronyms.pdf', 'page': 4})]"
      ]
     },
     "execution_count": 18,
     "metadata": {},
     "output_type": "execute_result"
    }
   ],
   "source": [
    "doc = read_doc('data/')\n",
    "doc"
   ]
  },
  {
   "cell_type": "code",
   "execution_count": 19,
   "metadata": {},
   "outputs": [
    {
     "data": {
      "text/plain": [
       "5"
      ]
     },
     "execution_count": 19,
     "metadata": {},
     "output_type": "execute_result"
    }
   ],
   "source": [
    "len(doc)"
   ]
  },
  {
   "cell_type": "code",
   "execution_count": 20,
   "metadata": {},
   "outputs": [],
   "source": [
    "#chunking the document -\n",
    "def chunking(docs,chunk_size=800,chunk_overlap=50):\n",
    "    text_splitter = RecursiveCharacterTextSplitter(chunk_size=chunk_size,chunk_overlap=chunk_overlap)\n",
    "    doc = text_splitter.split_documents(docs)\n",
    "    return docs"
   ]
  },
  {
   "cell_type": "code",
   "execution_count": 21,
   "metadata": {},
   "outputs": [
    {
     "data": {
      "text/plain": [
       "[Document(page_content=' \\n \\n*This is a representative.  \\nWe have thousands of acronyms here at Cognizant. Here are some of the most common.  \\n \\nAD Active Directory  \\nADP  Associate Deployable Pool  \\nADM  Applications Development & Management  \\nAM Account Manager  \\nAI&A  Artificial Intelligence & Analytics  \\nAIM  Analytics & Information Management  \\nAI-Squad  Artificial Intelligence -  System Quality Assurance and Data  \\nANZ Australia & New Zealand  \\nAOP  Annual Operating Plan \\nAPAC  Asia Pacific  \\nAToF  Account Team of the Future  \\nAUP  Acceptable Use Policy  \\nAVM  Application Value Management  \\nBA Business Analyst  \\nBI  Business Intelligence  \\nBCM  Business Continuity Management  \\nBCP  Business Continuity Plan  \\nBFS Banking & Financial Services  \\nBRM  Business Resilience Manager  \\nBU Business Unit  \\nBvD Bid vs Did \\nCC Cognizant Consulting \\nCCA  Cognizant Career Architecture \\nCDB  Cognizant Digital Business  \\nCDE  Cognizant Digital Engineering  \\n', metadata={'source': 'data\\\\Cognizant_Acronyms.pdf', 'page': 0}),\n",
       " Document(page_content=' \\nCDO  Cognizant Digital Operations  \\nCDP  Corporate Deployable Pool  \\nCDS  Cloud Data Solutions   \\nCE Continental Europe  \\nCEP  Core Engineering Practice \\nCF Corporate Function \\nCFRM  Corporate Function Resilience Manger \\nCI Cognizant Interactive  \\nCII Continuous Improvement and Innovation  \\nCIS Cognizant Infrastructure Services  \\nCMCI  Cognizant Managed Cloud Infrastructure  \\nCMT  Communications, Media and Technology  \\nCOD  Cost of Delivery  \\nCoE Center of Excellence \\nCP Commercial Partner/ Client Partner/Client Profitability  \\nCR Change Request  \\nCSA Cloud Solution Architect  \\nCTB Change the Business  \\nCWR  Contractor (Contingency Worker)  \\nCWS  Corporate Workplace Services  \\nDA Deliverability Assessment  \\nDBO  Digital Business Operations  \\nDB&T  Digital Business and Technology  \\nDE Delivery Excellence  \\nDHD  Delivery Health Dashboard \\nDI Data Integration  \\nDL Delivery Lead/ Distribution List  \\nDP Delivery Partner  \\nDS&T  Digital Systems & Technology  \\nEAS Enterprise Application Services  \\nE&C Ethics & Compliance \\nEL Engagement Lead  ', metadata={'source': 'data\\\\Cognizant_Acronyms.pdf', 'page': 1}),\n",
       " Document(page_content=' \\nELT Executive Leadership Team  \\nELT Entry Level Trainee  \\nEOD  End of Day  \\nEP Engagement Partner \\nERM  Enterprise Risk Management  \\nEVP Employee Value Proposition  \\nF&A Finance and Accounting \\nFB Fixed Bid  \\nFP&A Financial Planning & Analysis  \\nFSE Full Stack  Engineer  \\nGAPS  Global Account Planning Session \\nGD Global Delivery  \\nGDPR  Global Data Protection Regulation  \\nGGM  Global Growth Markets  \\nGL General Ledger  \\nGLD  Global Leadership Development  \\nGPOY  Global Project of the Year \\nGRC  Governance, Risk and Compliance \\nGTB  Global Talent Board \\nGTO  Global Technology Office  \\nGWFM  Global Workforce Management  \\nHC Healthcare  \\nHFM  Hyperion Financial Management  \\nHPOC  Horizontal Point of Contact  \\nHRBP  Human Resources Business Partner \\nIA Internal Audit  \\nIA&T  Intelligent Automation & Technology  \\nIME Information, Media and Entertainment  \\nIMS Information Management System   \\nIoT Internet of Things  \\nIPM Integrated Process Management  \\nIRM Information Risk Management  ', metadata={'source': 'data\\\\Cognizant_Acronyms.pdf', 'page': 2}),\n",
       " Document(page_content=' \\nISA Information Security & Assurance \\nLATAM  Latin America \\nLoS Lines of Service \\nLoB Lines of Business  \\nLP Learning Partner  \\nLS Life Sciences  \\nKRA  Key Results  Area  \\nKRO  Key Result Objectives or Key Role Outcomes  \\nME Middle East  \\nMLEU  Manufacturing, Logistics, Energy & Utilities  \\nMS Managed Services  \\nMSA  Master Service Agreement  \\nMSFT   Microsoft  \\nMSI Multi- Service Integration  \\nMTK  Manager Tool Kit  \\nNIB Non- Integrated Businesses  \\nNSS Network, Infrastructure, Internal IT (help desk) \\nNU Normalization Unit  \\nOEPM  Organizational Effectiveness and Performance Management team  \\nOSP  Oracle Solutions Practice  \\nP / PA  Programmer and Programmer Analyst  \\nPAT Programmer Analyst Trainee  \\nPC Project Code  \\nPCC Platinum Client Cluster \\nPDP Practice Deployable Pool  \\nPEP  Profitability Enhancement Program  \\nPII Personal Identifiable Information \\nPMO  Project Management Office \\nPS PeopleSoft  \\nP&L Profit and Loss  \\nQE&A  Quality Engineering & Assurance  \\nRCGTH Retail, Consumer Packaged Goods, Travel & Hospitality  ', metadata={'source': 'data\\\\Cognizant_Acronyms.pdf', 'page': 3}),\n",
       " Document(page_content=' \\nRDC  Regional Delivery Center \\nRDO  Results Delivery Office \\nRDP  Role Development Plan \\nRM Risk Management  \\nRPA Robotics Process Automation \\nRSM  Role Skill Matrix  \\nRTB  Run the Business  \\nRTM  Requirement Trace- ability Matrix   \\nSBU Subsidiary Business Unit  \\nSGA  Sales/Selling, General & Administration \\nSOW Statement of Work  \\nTAG  Talent Acquisition Group \\nTCG  Technology Consulting Group  \\nTB Trial Balance \\nTCR Transforming Client Relationships  \\nTCV Total Contract Value \\nTM Talent Manager  \\nTPDI  Total Performance and Development Indicators  \\nTSC Talent Supply Chain \\nTYU Test Your Understanding  \\nUK/I United Kingdom/Ireland  \\nVCDP  Virtual Corporate Deployable Pool  \\nVPOC  Vertical Point of Contact  \\nWI Workforce Insights  \\nWIP Work in Progress  \\nYE Year End  \\nYEA Year End Appraisal  \\nYTD Year to Date \\nZDLC  Zero Deviation Lifecycle  \\n ', metadata={'source': 'data\\\\Cognizant_Acronyms.pdf', 'page': 4})]"
      ]
     },
     "execution_count": 21,
     "metadata": {},
     "output_type": "execute_result"
    }
   ],
   "source": [
    "documents = chunking(docs=doc)\n",
    "documents"
   ]
  },
  {
   "cell_type": "code",
   "execution_count": 22,
   "metadata": {},
   "outputs": [
    {
     "data": {
      "text/plain": [
       "5"
      ]
     },
     "execution_count": 22,
     "metadata": {},
     "output_type": "execute_result"
    }
   ],
   "source": [
    "len(documents)"
   ]
  },
  {
   "cell_type": "code",
   "execution_count": 23,
   "metadata": {},
   "outputs": [],
   "source": [
    "embeddings=OpenAIEmbeddings(api_key= key)"
   ]
  },
  {
   "cell_type": "code",
   "execution_count": 24,
   "metadata": {},
   "outputs": [
    {
     "data": {
      "text/plain": [
       "OpenAIEmbeddings(client=<openai.resources.embeddings.Embeddings object at 0x000002001F490880>, async_client=<openai.resources.embeddings.AsyncEmbeddings object at 0x000002001F470280>, model='text-embedding-ada-002', deployment='text-embedding-ada-002', openai_api_version='', openai_api_base=None, openai_api_type='', openai_proxy='', embedding_ctx_length=8191, openai_api_key='sk-J3ZbnEqytFesD7kWKuVaT3B1bkFJ17Vr9dpDbViveZ2R2uon', openai_organization=None, allowed_special=set(), disallowed_special='all', chunk_size=1000, max_retries=2, request_timeout=None, headers=None, tiktoken_enabled=True, tiktoken_model_name=None, show_progress_bar=False, model_kwargs={}, skip_empty=False, default_headers=None, default_query=None, retry_min_seconds=4, retry_max_seconds=20, http_client=None)"
      ]
     },
     "execution_count": 24,
     "metadata": {},
     "output_type": "execute_result"
    }
   ],
   "source": [
    "embeddings"
   ]
  },
  {
   "cell_type": "code",
   "execution_count": 26,
   "metadata": {},
   "outputs": [],
   "source": [
    "#vector creation \n",
    "# vectors = embeddings.embed_query(\"how are you\")\n",
    "# vectors"
   ]
  },
  {
   "cell_type": "code",
   "execution_count": null,
   "metadata": {},
   "outputs": [],
   "source": []
  }
 ],
 "metadata": {
  "kernelspec": {
   "display_name": "genai",
   "language": "python",
   "name": "python3"
  },
  "language_info": {
   "codemirror_mode": {
    "name": "ipython",
    "version": 3
   },
   "file_extension": ".py",
   "mimetype": "text/x-python",
   "name": "python",
   "nbconvert_exporter": "python",
   "pygments_lexer": "ipython3",
   "version": "3.9.7"
  }
 },
 "nbformat": 4,
 "nbformat_minor": 2
}
